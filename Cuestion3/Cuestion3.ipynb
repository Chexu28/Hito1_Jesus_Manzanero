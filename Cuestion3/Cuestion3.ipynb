{
 "cells": [
  {
   "cell_type": "code",
   "execution_count": null,
   "id": "79c60469",
   "metadata": {},
   "outputs": [],
   "source": [
    "import pandas as pd\n",
    "\n",
    "#El CSV lo he descargado de https://www.kaggle.com/CooperUnion/cardataset\n",
    "df = pd.read_csv(\"https://raw.githubusercontent.com/Chexu28/Hito1_Jesus_Manzanero/main/Cuestion3/data.csv\")\n",
    "\n",
    "#Pintamos la informacion\n",
    "print(df)"
   ]
  },
  {
   "cell_type": "code",
   "execution_count": null,
   "id": "cf6bcfdd",
   "metadata": {},
   "outputs": [],
   "source": [
    "import matplotlib.pyplot as plt\n",
    "import pandas as pd\n",
    "\n",
    "my_plot = df.plot(\"Model\", \"Year\", kind=\"scatter\")\n",
    "plt.show()"
   ]
  },
  {
   "cell_type": "code",
   "execution_count": null,
   "id": "fe986375",
   "metadata": {},
   "outputs": [],
   "source": [
    "df.Year.plot.hist()\n",
    "plt.show()\n",
    "\n",
    "df.Make.value_counts().plot.pie()\n",
    "plt.show()"
   ]
  },
  {
   "cell_type": "code",
   "execution_count": null,
   "id": "cb53d78f",
   "metadata": {},
   "outputs": [],
   "source": [
    "df.plot.scatter(x=\"Make\", y=\"Vehicle Style\", alpha=0.2)\n",
    "plt.show()"
   ]
  }
 ],
 "metadata": {
  "kernelspec": {
   "display_name": "Python 3 (ipykernel)",
   "language": "python",
   "name": "python3"
  }
 },
 "nbformat": 4,
 "nbformat_minor": 5
}
